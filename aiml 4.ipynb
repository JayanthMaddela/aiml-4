{
 "cells": [
  {
   "cell_type": "code",
   "execution_count": 3,
   "metadata": {},
   "outputs": [
    {
     "ename": "TypeError",
     "evalue": "Node() takes no arguments",
     "output_type": "error",
     "traceback": [
      "\u001b[0;31m---------------------------------------------------------------------------\u001b[0m",
      "\u001b[0;31mTypeError\u001b[0m                                 Traceback (most recent call last)",
      "Cell \u001b[0;32mIn[3], line 34\u001b[0m\n\u001b[1;32m     31\u001b[0m         \u001b[38;5;28;01mreturn\u001b[39;00m \u001b[38;5;28mself\u001b[39m\u001b[38;5;241m.\u001b[39mchildren_nodes\n\u001b[1;32m     33\u001b[0m \u001b[38;5;66;03m# Construct the tree\u001b[39;00m\n\u001b[0;32m---> 34\u001b[0m root \u001b[38;5;241m=\u001b[39m \u001b[43mNode\u001b[49m\u001b[43m(\u001b[49m\u001b[38;5;124;43m\"\u001b[39;49m\u001b[38;5;124;43mA\u001b[39;49m\u001b[38;5;124;43m\"\u001b[39;49m\u001b[43m)\u001b[49m\n\u001b[1;32m     35\u001b[0m root\u001b[38;5;241m.\u001b[39mchildren_nodes \u001b[38;5;241m=\u001b[39m [Node(\u001b[38;5;124m\"\u001b[39m\u001b[38;5;124mB\u001b[39m\u001b[38;5;124m\"\u001b[39m), Node(\u001b[38;5;124m\"\u001b[39m\u001b[38;5;124mC\u001b[39m\u001b[38;5;124m\"\u001b[39m)]\n\u001b[1;32m     36\u001b[0m root\u001b[38;5;241m.\u001b[39mchildren_nodes[\u001b[38;5;241m0\u001b[39m]\u001b[38;5;241m.\u001b[39mchildren_nodes \u001b[38;5;241m=\u001b[39m [Node(\u001b[38;5;124m\"\u001b[39m\u001b[38;5;124mD\u001b[39m\u001b[38;5;124m\"\u001b[39m), Node(\u001b[38;5;124m\"\u001b[39m\u001b[38;5;124mE\u001b[39m\u001b[38;5;124m\"\u001b[39m)]\n",
      "\u001b[0;31mTypeError\u001b[0m: Node() takes no arguments"
     ]
    }
   ],
   "source": [
    "def minimax(node, depth, is_maximizing_player):\n",
    "    if depth == 0 or node.is_terminal():\n",
    "        return node.evaluate()\n",
    "\n",
    "    if is_maximizing_player:\n",
    "        max_eval = float('-inf')\n",
    "        for child in node.children():\n",
    "            eval = minimax(child,depth - 1,False)\n",
    "            max_eval = max(max_eval, eval)\n",
    "        return max_eval\n",
    "    else:\n",
    "        min_eval = float('inf')\n",
    "        for child in node.children():\n",
    "            eval = minimax(child, depth - 1, True)\n",
    "            min_eval = min(min_eval,eval);\n",
    "        return min_eval\n",
    "\n",
    "# Example usage:\n",
    "class Node:\n",
    "    def _init_(self, value):\n",
    "        self.value = value\n",
    "        self.children_nodes = []\n",
    "\n",
    "    def is_terminal(self):\n",
    "        return not bool(self.children_nodes)\n",
    "\n",
    "    def evaluate(self):\n",
    "        return self.value\n",
    "\n",
    "    def children(self):\n",
    "        return self.children_nodes\n",
    "\n",
    "# Construct the tree\n",
    "root = Node(\"A\")\n",
    "root.children_nodes = [Node(\"B\"), Node(\"C\")]\n",
    "root.children_nodes[0].children_nodes = [Node(\"D\"), Node(\"E\")]\n",
    "root.children_nodes[1].children_nodes = [Node(\"F\"), Node(\"G\")]\n",
    "root.children_nodes[0].children_nodes[0].children_nodes=[Node(-1),Node(4)]\n",
    "root.children_nodes[0].children_nodes[1].children_nodes=[Node(2),Node(6)]\n",
    "root.children_nodes[1].children_nodes[0].children_nodes=[Node(-3),Node(-5)]\n",
    "root.children_nodes[1].children_nodes[1].children_nodes=[Node(0),Node(7)]\n",
    "\n",
    "# ... continue constructing the tree with terminal values\n",
    "\n",
    "# Example usage:\n",
    "result = minimax(root, 3, True)  # Assuming depth is 3\n",
    "print(\"The optimal value is:\", result)"
   ]
  }
 ],
 "metadata": {
  "kernelspec": {
   "display_name": "Python 3",
   "language": "python",
   "name": "python3"
  },
  "language_info": {
   "codemirror_mode": {
    "name": "ipython",
    "version": 3
   },
   "file_extension": ".py",
   "mimetype": "text/x-python",
   "name": "python",
   "nbconvert_exporter": "python",
   "pygments_lexer": "ipython3",
   "version": "3.10.13"
  }
 },
 "nbformat": 4,
 "nbformat_minor": 2
}
